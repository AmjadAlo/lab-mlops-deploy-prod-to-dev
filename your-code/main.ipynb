{
 "cells": [
  {
   "cell_type": "markdown",
   "metadata": {},
   "source": [
    "# LAB | MLOps Deployment from PROD to DEV"
   ]
  },
  {
   "cell_type": "markdown",
   "metadata": {
    "vscode": {
     "languageId": "plaintext"
    }
   },
   "source": [
    "\n",
    "## Objective\n",
    "In this exercise, you will work in pairs to simulate the process of deploying code from a development environment (DEV) to a production environment (PRD). One student will act as the developer pushing code, while the other will be the gatekeeper ensuring the code runs correctly.\n",
    "\n",
    "## Instructions\n",
    "\n",
    "### Step 1: Form Pairs\n",
    "- Split into pairs\n",
    "\n",
    "### Step 2: Developer Role\n",
    "1. **Push Code to Repository**\n",
    "   - Create a new project or use an existing one\n",
    "   - Copy the code to a folder (which will be a git repo in a few minutes)\n",
    "   - Create a venv (see previous class in case you missed something)\n",
    "   - Install all the necessary packages\n",
    "   - Create the requirements.txt file\n",
    "\n",
    "   - Initialize a git repository in your project folder:\n",
    "     ```sh\n",
    "     git init\n",
    "     ```\n",
    "   - Add your project files to the repository - **do not add the venv folder to git**:\n",
    "     ```sh\n",
    "     git add [each_file]\n",
    "     ```\n",
    "\n",
    "   - Commit your changes:\n",
    "     ```sh\n",
    "     git commit -m \"Initial commit\"\n",
    "     ```\n",
    "   - Push your project to a remote git repository (GitHub, GitLab, etc.):\n",
    "     ```sh\n",
    "     git remote add origin <remote-repo-url>\n",
    "     git push -u origin main\n",
    "     ```\n",
    "\n",
    "2. **Create a Pull Request**\n",
    "   - Go to your remote repository and create a pull request (PR).\n",
    "\n",
    "### Step 3: Gatekeeper Role\n",
    "1. **Review and Pull Code**\n",
    "   - Review the pull request created by your partner.\n",
    "   - If everything looks good, merge the pull request.\n",
    "   - Pull the latest changes from the remote repository:\n",
    "     ```sh\n",
    "     git pull origin main\n",
    "     ```\n",
    "\n",
    "2. **Setup Environment**\n",
    "   - Navigate to the project directory.\n",
    "   - Create an empty venv\n",
    "   - Install the required dependencies listed in `requirements.txt`:\n",
    "     ```sh\n",
    "     pip install -r requirements.txt\n",
    "     ```\n",
    "\n",
    "3. **Run the Project**\n",
    "   - Ensure the project runs without errors.\n",
    "   - Provide feedback to the developer if there are any issues.\n",
    "\n",
    "### Step 4: Swap Roles and Repeat\n",
    "- Swap roles and repeat the exercise, so each student gets to be both the developer and the gatekeeper.\n",
    "  - Bonus: to simulate reality, try to do this again outside a video call (via Slack messages for example)\n",
    "\n",
    "### Notes\n",
    "- Ensure clear communication between partners during the process.\n",
    "- Make use of version control best practices.\n",
    "- Document any issues encountered and how they were resolved.\n",
    "\n",
    "## Deliverables\n",
    "- Each pair should have a functioning project that has been successfully reviewed, pulled, and run by the gatekeeper.\n",
    "- A brief report on the process, any challenges faced, and how they were overcome.\n",
    "\n",
    "Good luck and happy coding!\n",
    "\n",
    "\n"
   ]
  },
  {
   "cell_type": "code",
   "execution_count": 4,
   "metadata": {},
   "outputs": [
    {
     "name": "stdout",
     "output_type": "stream",
     "text": [
      "Collecting pandas\n",
      "  Downloading pandas-2.2.3-cp311-cp311-win_amd64.whl.metadata (19 kB)\n",
      "Collecting numpy>=1.23.2 (from pandas)\n",
      "  Downloading numpy-2.2.4-cp311-cp311-win_amd64.whl.metadata (60 kB)\n",
      "Requirement already satisfied: python-dateutil>=2.8.2 in c:\\users\\amjad\\onedrive\\desktop\\ia\\w6\\d5\\lab-mlops-deploy-prod-to-dev\\.venv\\lib\\site-packages (from pandas) (2.9.0.post0)\n",
      "Collecting pytz>=2020.1 (from pandas)\n",
      "  Downloading pytz-2025.2-py2.py3-none-any.whl.metadata (22 kB)\n",
      "Collecting tzdata>=2022.7 (from pandas)\n",
      "  Downloading tzdata-2025.2-py2.py3-none-any.whl.metadata (1.4 kB)\n",
      "Requirement already satisfied: six>=1.5 in c:\\users\\amjad\\onedrive\\desktop\\ia\\w6\\d5\\lab-mlops-deploy-prod-to-dev\\.venv\\lib\\site-packages (from python-dateutil>=2.8.2->pandas) (1.17.0)\n",
      "Downloading pandas-2.2.3-cp311-cp311-win_amd64.whl (11.6 MB)\n",
      "   ---------------------------------------- 0.0/11.6 MB ? eta -:--:--\n",
      "    --------------------------------------- 0.3/11.6 MB ? eta -:--:--\n",
      "   - -------------------------------------- 0.5/11.6 MB 2.8 MB/s eta 0:00:04\n",
      "   ---- ----------------------------------- 1.3/11.6 MB 2.5 MB/s eta 0:00:05\n",
      "   ------- -------------------------------- 2.1/11.6 MB 2.9 MB/s eta 0:00:04\n",
      "   --------- ------------------------------ 2.6/11.6 MB 3.0 MB/s eta 0:00:04\n",
      "   ----------- ---------------------------- 3.4/11.6 MB 3.0 MB/s eta 0:00:03\n",
      "   ------------ --------------------------- 3.7/11.6 MB 2.9 MB/s eta 0:00:03\n",
      "   ------------ --------------------------- 3.7/11.6 MB 2.9 MB/s eta 0:00:03\n",
      "   ---------------- ----------------------- 4.7/11.6 MB 2.7 MB/s eta 0:00:03\n",
      "   ------------------ --------------------- 5.5/11.6 MB 2.7 MB/s eta 0:00:03\n",
      "   --------------------- ------------------ 6.3/11.6 MB 2.9 MB/s eta 0:00:02\n",
      "   ---------------------- ----------------- 6.6/11.6 MB 2.9 MB/s eta 0:00:02\n",
      "   ------------------------ --------------- 7.1/11.6 MB 2.8 MB/s eta 0:00:02\n",
      "   ------------------------ --------------- 7.1/11.6 MB 2.8 MB/s eta 0:00:02\n",
      "   ---------------------------- ----------- 8.4/11.6 MB 2.7 MB/s eta 0:00:02\n",
      "   ------------------------------ --------- 8.9/11.6 MB 2.7 MB/s eta 0:00:01\n",
      "   -------------------------------- ------- 9.4/11.6 MB 2.7 MB/s eta 0:00:01\n",
      "   ---------------------------------- ----- 10.0/11.6 MB 2.7 MB/s eta 0:00:01\n",
      "   ------------------------------------ --- 10.5/11.6 MB 2.7 MB/s eta 0:00:01\n",
      "   ------------------------------------- -- 11.0/11.6 MB 2.7 MB/s eta 0:00:01\n",
      "   ---------------------------------------  11.5/11.6 MB 2.7 MB/s eta 0:00:01\n",
      "   ---------------------------------------- 11.6/11.6 MB 2.7 MB/s eta 0:00:00\n",
      "Downloading numpy-2.2.4-cp311-cp311-win_amd64.whl (12.9 MB)\n",
      "   ---------------------------------------- 0.0/12.9 MB ? eta -:--:--\n",
      "   - -------------------------------------- 0.5/12.9 MB 2.8 MB/s eta 0:00:05\n",
      "   --- ------------------------------------ 1.0/12.9 MB 3.6 MB/s eta 0:00:04\n",
      "   ----- ---------------------------------- 1.8/12.9 MB 3.0 MB/s eta 0:00:04\n",
      "   -------- ------------------------------- 2.6/12.9 MB 3.1 MB/s eta 0:00:04\n",
      "   ---------- ----------------------------- 3.4/12.9 MB 3.2 MB/s eta 0:00:03\n",
      "   ------------ --------------------------- 4.2/12.9 MB 3.3 MB/s eta 0:00:03\n",
      "   -------------- ------------------------- 4.7/12.9 MB 3.2 MB/s eta 0:00:03\n",
      "   ---------------- ----------------------- 5.2/12.9 MB 3.1 MB/s eta 0:00:03\n",
      "   ----------------- ---------------------- 5.5/12.9 MB 2.9 MB/s eta 0:00:03\n",
      "   ------------------- -------------------- 6.3/12.9 MB 3.0 MB/s eta 0:00:03\n",
      "   --------------------- ------------------ 7.1/12.9 MB 3.1 MB/s eta 0:00:02\n",
      "   ------------------------ --------------- 7.9/12.9 MB 3.1 MB/s eta 0:00:02\n",
      "   -------------------------- ------------- 8.7/12.9 MB 3.1 MB/s eta 0:00:02\n",
      "   ---------------------------- ----------- 9.2/12.9 MB 3.1 MB/s eta 0:00:02\n",
      "   ----------------------------- ---------- 9.4/12.9 MB 3.1 MB/s eta 0:00:02\n",
      "   ------------------------------- -------- 10.2/12.9 MB 3.0 MB/s eta 0:00:01\n",
      "   --------------------------------- ------ 10.7/12.9 MB 3.0 MB/s eta 0:00:01\n",
      "   ---------------------------------- ----- 11.3/12.9 MB 3.0 MB/s eta 0:00:01\n",
      "   ----------------------------------- ---- 11.5/12.9 MB 2.9 MB/s eta 0:00:01\n",
      "   ------------------------------------ --- 11.8/12.9 MB 2.9 MB/s eta 0:00:01\n",
      "   -------------------------------------- - 12.3/12.9 MB 2.8 MB/s eta 0:00:01\n",
      "   -------------------------------------- - 12.6/12.9 MB 2.7 MB/s eta 0:00:01\n",
      "   ---------------------------------------- 12.9/12.9 MB 2.7 MB/s eta 0:00:00\n",
      "Downloading pytz-2025.2-py2.py3-none-any.whl (509 kB)\n",
      "Downloading tzdata-2025.2-py2.py3-none-any.whl (347 kB)\n",
      "Installing collected packages: pytz, tzdata, numpy, pandas\n",
      "Successfully installed numpy-2.2.4 pandas-2.2.3 pytz-2025.2 tzdata-2025.2\n",
      "Note: you may need to restart the kernel to use updated packages.\n"
     ]
    }
   ],
   "source": [
    "pip install pandas\n"
   ]
  },
  {
   "cell_type": "code",
   "execution_count": 9,
   "metadata": {},
   "outputs": [],
   "source": [
    "import pandas as pd"
   ]
  },
  {
   "cell_type": "code",
   "execution_count": 8,
   "metadata": {},
   "outputs": [
    {
     "name": "stdout",
     "output_type": "stream",
     "text": [
      "Hello World\n"
     ]
    }
   ],
   "source": [
    "print ('Hello World')"
   ]
  }
 ],
 "metadata": {
  "kernelspec": {
   "display_name": ".venv",
   "language": "python",
   "name": "python3"
  },
  "language_info": {
   "codemirror_mode": {
    "name": "ipython",
    "version": 3
   },
   "file_extension": ".py",
   "mimetype": "text/x-python",
   "name": "python",
   "nbconvert_exporter": "python",
   "pygments_lexer": "ipython3",
   "version": "3.11.0"
  }
 },
 "nbformat": 4,
 "nbformat_minor": 2
}
